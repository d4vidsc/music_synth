{
 "cells": [
  {
   "cell_type": "markdown",
   "metadata": {},
   "source": [
    "# Sintetização de um som de gaita utilizando Python\n",
    "\n",
    "### Neste _notebook_ está o processo de sintetização de um som de gaita diatônica em Dó utilizando os parâmetros definidos e apresentados no TCC.\n",
    "\n",
    "Na primeira célula é realizada a importação das bibliotecas e funções necessárias para a realização da sintetização"
   ]
  },
  {
   "cell_type": "code",
   "execution_count": 1,
   "metadata": {},
   "outputs": [],
   "source": [
    "import sineModel_function\n",
    "import os"
   ]
  },
  {
   "cell_type": "markdown",
   "metadata": {},
   "source": [
    "Aqui ocorrem as inicializções dos parâmetros de entrada da função de sintetização definidos no TCC"
   ]
  },
  {
   "cell_type": "code",
   "execution_count": 2,
   "metadata": {},
   "outputs": [],
   "source": [
    "# Arquivo de entrada\n",
    "inputFile = '../gaita.wav'\n",
    "\n",
    "# Janela\n",
    "window = 'blackmanharris'\n",
    "\n",
    "# Comprimento da janela\n",
    "M = 601\n",
    "\n",
    "# Comprimento da FFT (potência de 2)\n",
    "N = 1024\n",
    "\n",
    "# Limiar de magnitude dos picos\n",
    "t = -80\n",
    "\n",
    "# Mínima duração dos Senos rastreados\n",
    "minSineDur = 0.2\n",
    "\n",
    "# Máxima quantidade de senos representados\n",
    "maxnSines = 37\n",
    "\n",
    "# Desvio de frequência\n",
    "freqDevOffset = 20\n",
    "\n",
    "# Inclinação do desvio da frequência\n",
    "freqDevSlope = 0.001"
   ]
  },
  {
   "cell_type": "markdown",
   "metadata": {},
   "source": [
    "Aqui a função de sintetização é chamada com os parâmetros de entrada definidos anteriormente"
   ]
  },
  {
   "cell_type": "code",
   "execution_count": 4,
   "metadata": {},
   "outputs": [],
   "source": [
    "# Chamando a função para a primeira sintetização\n",
    "%matplotlib tk\n",
    "sineModel_function.main(inputFile, window, M, N, t, minSineDur, maxnSines, freqDevOffset, freqDevSlope)\n",
    "\n",
    "# Renomear arquivo de saída para melhor organização\n",
    "\n",
    "os.rename(r'gaita_sineModel.wav', r'gaita_sint.wav')"
   ]
  },
  {
   "cell_type": "code",
   "execution_count": null,
   "metadata": {},
   "outputs": [],
   "source": []
  }
 ],
 "metadata": {
  "kernelspec": {
   "display_name": "Python 3",
   "language": "python",
   "name": "python3"
  },
  "language_info": {
   "codemirror_mode": {
    "name": "ipython",
    "version": 3
   },
   "file_extension": ".py",
   "mimetype": "text/x-python",
   "name": "python",
   "nbconvert_exporter": "python",
   "pygments_lexer": "ipython3",
   "version": "3.6.9"
  }
 },
 "nbformat": 4,
 "nbformat_minor": 2
}
