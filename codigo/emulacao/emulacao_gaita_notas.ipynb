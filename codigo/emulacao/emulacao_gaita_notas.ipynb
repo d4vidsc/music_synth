{
 "cells": [
  {
   "cell_type": "code",
   "execution_count": 24,
   "metadata": {},
   "outputs": [],
   "source": [
    "from scipy.io.wavfile import write, read\n",
    "from scipy import signal\n",
    "from scipy.fftpack import fft, ifft, fftshift, fftfreq\n",
    "from scipy.io.wavfile import write, read\n",
    "import matplotlib.pyplot as plt\n",
    "import numpy as np\n",
    "import sounddevice as sd"
   ]
  },
  {
   "cell_type": "code",
   "execution_count": 25,
   "metadata": {},
   "outputs": [],
   "source": [
    "# Leitura do sinal da gaita\n",
    "\n",
    "fs, gaita_in = read('../gaita.wav')\n",
    "\n",
    "# Normalizando amplitude para valores entre -1 e 1 e definindo o tipo float 32bits\n",
    "gaita_in = np.float32(gaita_in)/(2**15 - 1)\n",
    "\n",
    "# Array de tempo\n",
    "amostras = np.arange(len(gaita_in))\n",
    "t = amostras / fs\n",
    "\n",
    "# Obtendo a envoltória com filtro passa baixa\n",
    "gaita_abs = abs(gaita_in)\n",
    "\n",
    "fc = 30                #freq de corte\n",
    "Wn = fc / (fs / 2)     #freq de corte normalizada\n",
    "\n",
    "# Utilizando filtro butterworth de terceira ordem para aplicar um passa-baixa no sinal\n",
    "b, a = signal.butter(3, Wn)\n",
    "env_filt = signal.filtfilt(b, a, gaita_abs)\n",
    "\n",
    "# Suprimir ruído desconsiderando amplitudes pequenas\n",
    "for i in range (env_filt.size):\n",
    "    if env_filt[i] < 0.005: env_filt[i] = 0\n",
    "\n",
    "env_filt_ganho = 3.5 * env_filt\n",
    "\n",
    "# Aplicando FFT no sinal da gaita\n",
    "gaita_fft = fft(gaita_in)\n",
    "\n",
    "# Definindo eixo das frequencias\n",
    "# Está variando de 0 a fs/2 e pegando só metade do comprimento da fft, ou seja, só a porção positiva\n",
    "gaita_freqs = np.linspace(0.0, fs/2, gaita_fft.size//2)\n",
    "\n",
    "# Acertando a amplitude da fft\n",
    "# Os valores absolutos da FFT dividido pela metade da frequencia de amostragem\n",
    "amp_gaita_fft = abs(gaita_fft[:int(gaita_fft.size/2)]) / (fs/2)\n",
    "\n",
    "# Obtendo o angulo da FFT\n",
    "fase_gaita_fft = np.angle(gaita_fft[:int(gaita_fft.size/2)])"
   ]
  },
  {
   "cell_type": "code",
   "execution_count": 26,
   "metadata": {},
   "outputs": [],
   "source": [
    "# Encontrando as frequências e amplitude relativa\n",
    "pico_loc = []\n",
    "gaita_fft_copy = amp_gaita_fft.copy()\n",
    "\n",
    "# Laço para identificar a localização dos picos das ffts, desconsiderando os valores próximos\n",
    "# Limiar para amplitude de 0.015\n",
    "while True:\n",
    "    pico = np.amax(gaita_fft_copy)\n",
    "    if pico < 0.015: break\n",
    "    loc, = np.where(gaita_fft_copy == pico)\n",
    "    pico_loc.append(int(loc))\n",
    "    gaita_fft_copy[int(loc-10):int(loc+10)] = 0"
   ]
  },
  {
   "cell_type": "code",
   "execution_count": 27,
   "metadata": {},
   "outputs": [],
   "source": [
    "# Somando os senos mais significativos para formar os timbres das notas\n",
    "# Para formar as outras notas da escala, utilizou-se a relação entre notas de acordo com a afinação natural\n",
    "\n",
    "timbre_fase_C = 0\n",
    "timbre_fase_D = 0\n",
    "timbre_fase_E = 0\n",
    "timbre_fase_F = 0\n",
    "timbre_fase_G = 0\n",
    "timbre_fase_A = 0\n",
    "timbre_fase_B = 0\n",
    "\n",
    "for loc in pico_loc:\n",
    "    timbre_fase_C += (amp_gaita_fft[loc] * np.cos(2 * np.pi * (8/9*gaita_freqs[loc]) * t + fase_gaita_fft[loc]))\n",
    "    timbre_fase_D += (amp_gaita_fft[loc] * np.cos(2 * np.pi * gaita_freqs[loc] * t + fase_gaita_fft[loc]))\n",
    "    timbre_fase_E += (amp_gaita_fft[loc] * np.cos(2 * np.pi * (10/9*gaita_freqs[loc]) * t + fase_gaita_fft[loc]))\n",
    "    timbre_fase_F += (amp_gaita_fft[loc] * np.cos(2 * np.pi * (32/27*gaita_freqs[loc]) * t + fase_gaita_fft[loc]))\n",
    "    timbre_fase_G += (amp_gaita_fft[loc] * np.cos(2 * np.pi * (4/3*gaita_freqs[loc]) * t + fase_gaita_fft[loc]))\n",
    "    timbre_fase_A += (amp_gaita_fft[loc] * np.cos(2 * np.pi * (40/27*gaita_freqs[loc]) * t + fase_gaita_fft[loc]))\n",
    "    timbre_fase_B += (amp_gaita_fft[loc] * np.cos(2 * np.pi * (5/3*gaita_freqs[loc]) * t + fase_gaita_fft[loc]))\n",
    "    "
   ]
  },
  {
   "cell_type": "code",
   "execution_count": 35,
   "metadata": {},
   "outputs": [],
   "source": [
    "sd.play(gaita_in)"
   ]
  },
  {
   "cell_type": "code",
   "execution_count": 30,
   "metadata": {},
   "outputs": [],
   "source": [
    "# Multiplicando a envoltória ao timbre com um ganho\n",
    "\n",
    "gaita_emuD = 3 * timbre_fase_D * env_filt_ganho"
   ]
  },
  {
   "cell_type": "code",
   "execution_count": 36,
   "metadata": {},
   "outputs": [],
   "source": [
    "sd.play(gaita_emuD)"
   ]
  },
  {
   "cell_type": "code",
   "execution_count": 22,
   "metadata": {},
   "outputs": [],
   "source": [
    "# estreitar a envoltória\n",
    "fatorM = 4\n",
    "env_short = np.array([])\n",
    "\n",
    "for i in range(env_filt_ganho.size):\n",
    "    if i%fatorM == 0:\n",
    "        env_short = np.append(env_short, env_filt_ganho[i])\n",
    "        \n",
    "gaita_shortC = 3 * env_short * timbre_fase_C[:int(env_short.size)]"
   ]
  },
  {
   "cell_type": "code",
   "execution_count": 23,
   "metadata": {},
   "outputs": [],
   "source": [
    "sd.play(gaita_shortC)"
   ]
  },
  {
   "cell_type": "code",
   "execution_count": 48,
   "metadata": {},
   "outputs": [],
   "source": [
    "tshort = np.arange(env_short.size) / fs\n",
    "\n",
    "timbre_short_C2 = 0\n",
    "for loc in pico_loc:\n",
    "    timbre_short_C2 += (amp_gaita_fft[loc] * np.cos(2 * np.pi * (8/9*gaita_freqs[loc]) * tshort + fase_gaita_fft[loc]))\n",
    "    \n",
    "gaita_shortC2 = 3 * env_short * timbre_short_C"
   ]
  },
  {
   "cell_type": "code",
   "execution_count": 51,
   "metadata": {},
   "outputs": [],
   "source": [
    "sd.play(gaita_shortC2)"
   ]
  },
  {
   "cell_type": "code",
   "execution_count": 54,
   "metadata": {},
   "outputs": [],
   "source": [
    "# alongar a envoltória\n",
    "fatorL = 2\n",
    "env_long = np.array([])\n",
    "\n",
    "for i in range(env_filt_ganho.size):\n",
    "    if i%fatorL == 0:\n",
    "        env_long = np.append(env_long, env_filt_ganho[i])\n",
    "    else:\n",
    "        env_long = np.append(env_long, 0)\n",
    "\n",
    "# plt.stem(env_long)\n",
    "# plt.show()"
   ]
  },
  {
   "cell_type": "code",
   "execution_count": 70,
   "metadata": {},
   "outputs": [],
   "source": [
    "teste = 3 * env_long * timbre_fase_A"
   ]
  },
  {
   "cell_type": "code",
   "execution_count": 72,
   "metadata": {},
   "outputs": [],
   "source": [
    "sd.play(gaita_emuA)"
   ]
  },
  {
   "cell_type": "code",
   "execution_count": 73,
   "metadata": {},
   "outputs": [],
   "source": [
    "sd.play(teste)"
   ]
  }
 ],
 "metadata": {
  "kernelspec": {
   "display_name": "Python 3",
   "language": "python",
   "name": "python3"
  },
  "language_info": {
   "codemirror_mode": {
    "name": "ipython",
    "version": 3
   },
   "file_extension": ".py",
   "mimetype": "text/x-python",
   "name": "python",
   "nbconvert_exporter": "python",
   "pygments_lexer": "ipython3",
   "version": "3.6.9"
  }
 },
 "nbformat": 4,
 "nbformat_minor": 2
}
